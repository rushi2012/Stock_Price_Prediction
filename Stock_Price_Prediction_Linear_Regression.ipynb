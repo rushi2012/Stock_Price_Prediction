{
  "nbformat": 4,
  "nbformat_minor": 0,
  "metadata": {
    "colab": {
      "name": "Stock_Price Prediction_Linear_Regression.ipynb",
      "provenance": [],
      "authorship_tag": "ABX9TyOgM4i+hRmcs/DWeRAe3Fxe",
      "include_colab_link": true
    },
    "kernelspec": {
      "name": "python3",
      "display_name": "Python 3"
    },
    "language_info": {
      "name": "python"
    }
  },
  "cells": [
    {
      "cell_type": "markdown",
      "metadata": {
        "id": "view-in-github",
        "colab_type": "text"
      },
      "source": [
        "<a href=\"https://colab.research.google.com/github/rushi2012/Stock_Price_Prediction/blob/main/Stock_Price_Prediction_Linear_Regression.ipynb\" target=\"_parent\"><img src=\"https://colab.research.google.com/assets/colab-badge.svg\" alt=\"Open In Colab\"/></a>"
      ]
    },
    {
      "cell_type": "code",
      "execution_count": 32,
      "metadata": {
        "id": "BoWxr2HMWSM-"
      },
      "outputs": [],
      "source": [
        "#Import Libraries\n",
        "import pandas as pd\n",
        "import numpy as np\n",
        "import matplotlib.pyplot as plt\n",
        "import warnings \n",
        "warnings.filterwarnings('ignore')\n",
        "import seaborn as sns"
      ]
    },
    {
      "cell_type": "code",
      "source": [
        "# Import and read CSV file\n",
        "stock = pd.read_csv('/content/AAPL_Price_History_20211207.csv')\n",
        "stock.head()"
      ],
      "metadata": {
        "colab": {
          "base_uri": "https://localhost:8080/",
          "height": 206
        },
        "id": "oGt0kaQ_ulKM",
        "outputId": "d06c0ab6-b9bb-4b2f-83d8-7112ed217c2d"
      },
      "execution_count": 33,
      "outputs": [
        {
          "output_type": "execute_result",
          "data": {
            "text/html": [
              "<div>\n",
              "<style scoped>\n",
              "    .dataframe tbody tr th:only-of-type {\n",
              "        vertical-align: middle;\n",
              "    }\n",
              "\n",
              "    .dataframe tbody tr th {\n",
              "        vertical-align: top;\n",
              "    }\n",
              "\n",
              "    .dataframe thead th {\n",
              "        text-align: right;\n",
              "    }\n",
              "</style>\n",
              "<table border=\"1\" class=\"dataframe\">\n",
              "  <thead>\n",
              "    <tr style=\"text-align: right;\">\n",
              "      <th></th>\n",
              "      <th>Date</th>\n",
              "      <th>Open</th>\n",
              "      <th>High</th>\n",
              "      <th>Low</th>\n",
              "      <th>Close</th>\n",
              "      <th>Volume</th>\n",
              "      <th>Unnamed: 6</th>\n",
              "    </tr>\n",
              "  </thead>\n",
              "  <tbody>\n",
              "    <tr>\n",
              "      <th>0</th>\n",
              "      <td>12/7/2011</td>\n",
              "      <td>13.9261</td>\n",
              "      <td>13.9621</td>\n",
              "      <td>13.8129</td>\n",
              "      <td>13.8961</td>\n",
              "      <td>305000048.0</td>\n",
              "      <td>NaN</td>\n",
              "    </tr>\n",
              "    <tr>\n",
              "      <th>1</th>\n",
              "      <td>12/8/2011</td>\n",
              "      <td>13.9803</td>\n",
              "      <td>14.1250</td>\n",
              "      <td>13.9368</td>\n",
              "      <td>13.9521</td>\n",
              "      <td>376356580.0</td>\n",
              "      <td>NaN</td>\n",
              "    </tr>\n",
              "    <tr>\n",
              "      <th>2</th>\n",
              "      <td>12/9/2011</td>\n",
              "      <td>14.0303</td>\n",
              "      <td>14.0728</td>\n",
              "      <td>13.9653</td>\n",
              "      <td>14.0578</td>\n",
              "      <td>297143408.0</td>\n",
              "      <td>NaN</td>\n",
              "    </tr>\n",
              "    <tr>\n",
              "      <th>3</th>\n",
              "      <td>12/12/2011</td>\n",
              "      <td>13.9886</td>\n",
              "      <td>14.0678</td>\n",
              "      <td>13.9089</td>\n",
              "      <td>13.9943</td>\n",
              "      <td>301065820.0</td>\n",
              "      <td>NaN</td>\n",
              "    </tr>\n",
              "    <tr>\n",
              "      <th>4</th>\n",
              "      <td>12/13/2011</td>\n",
              "      <td>14.0357</td>\n",
              "      <td>14.1214</td>\n",
              "      <td>13.8250</td>\n",
              "      <td>13.8861</td>\n",
              "      <td>339137092.0</td>\n",
              "      <td>NaN</td>\n",
              "    </tr>\n",
              "  </tbody>\n",
              "</table>\n",
              "</div>"
            ],
            "text/plain": [
              "         Date     Open     High      Low    Close       Volume  Unnamed: 6\n",
              "0   12/7/2011  13.9261  13.9621  13.8129  13.8961  305000048.0         NaN\n",
              "1   12/8/2011  13.9803  14.1250  13.9368  13.9521  376356580.0         NaN\n",
              "2   12/9/2011  14.0303  14.0728  13.9653  14.0578  297143408.0         NaN\n",
              "3  12/12/2011  13.9886  14.0678  13.9089  13.9943  301065820.0         NaN\n",
              "4  12/13/2011  14.0357  14.1214  13.8250  13.8861  339137092.0         NaN"
            ]
          },
          "metadata": {},
          "execution_count": 33
        }
      ]
    },
    {
      "cell_type": "code",
      "source": [
        "stock = stock.iloc[:,:-1]"
      ],
      "metadata": {
        "id": "3PtA9HONyIMe"
      },
      "execution_count": 34,
      "outputs": []
    },
    {
      "cell_type": "code",
      "source": [
        "stock = stock.dropna()"
      ],
      "metadata": {
        "id": "wXt7hSh4yWCO"
      },
      "execution_count": 35,
      "outputs": []
    },
    {
      "cell_type": "code",
      "source": [
        "stock.isnull().sum()"
      ],
      "metadata": {
        "colab": {
          "base_uri": "https://localhost:8080/"
        },
        "id": "lj58Uk00OtWs",
        "outputId": "3059f9ea-bb05-4c0f-af1b-d1327d26ddf5"
      },
      "execution_count": 36,
      "outputs": [
        {
          "output_type": "execute_result",
          "data": {
            "text/plain": [
              "Date      0\n",
              "Open      0\n",
              "High      0\n",
              "Low       0\n",
              "Close     0\n",
              "Volume    0\n",
              "dtype: int64"
            ]
          },
          "metadata": {},
          "execution_count": 36
        }
      ]
    },
    {
      "cell_type": "code",
      "source": [
        "stock.tail()"
      ],
      "metadata": {
        "colab": {
          "base_uri": "https://localhost:8080/",
          "height": 206
        },
        "id": "iR1EdAHSyZ8u",
        "outputId": "e7080402-f3c7-4e2c-b181-c8d97a279ec8"
      },
      "execution_count": 37,
      "outputs": [
        {
          "output_type": "execute_result",
          "data": {
            "text/html": [
              "<div>\n",
              "<style scoped>\n",
              "    .dataframe tbody tr th:only-of-type {\n",
              "        vertical-align: middle;\n",
              "    }\n",
              "\n",
              "    .dataframe tbody tr th {\n",
              "        vertical-align: top;\n",
              "    }\n",
              "\n",
              "    .dataframe thead th {\n",
              "        text-align: right;\n",
              "    }\n",
              "</style>\n",
              "<table border=\"1\" class=\"dataframe\">\n",
              "  <thead>\n",
              "    <tr style=\"text-align: right;\">\n",
              "      <th></th>\n",
              "      <th>Date</th>\n",
              "      <th>Open</th>\n",
              "      <th>High</th>\n",
              "      <th>Low</th>\n",
              "      <th>Close</th>\n",
              "      <th>Volume</th>\n",
              "    </tr>\n",
              "  </thead>\n",
              "  <tbody>\n",
              "    <tr>\n",
              "      <th>2512</th>\n",
              "      <td>12/1/2021</td>\n",
              "      <td>167.480</td>\n",
              "      <td>170.3000</td>\n",
              "      <td>164.53</td>\n",
              "      <td>164.77</td>\n",
              "      <td>152423003.0</td>\n",
              "    </tr>\n",
              "    <tr>\n",
              "      <th>2513</th>\n",
              "      <td>12/2/2021</td>\n",
              "      <td>158.735</td>\n",
              "      <td>164.2000</td>\n",
              "      <td>157.80</td>\n",
              "      <td>163.76</td>\n",
              "      <td>136739174.0</td>\n",
              "    </tr>\n",
              "    <tr>\n",
              "      <th>2514</th>\n",
              "      <td>12/3/2021</td>\n",
              "      <td>164.020</td>\n",
              "      <td>164.9600</td>\n",
              "      <td>159.72</td>\n",
              "      <td>161.84</td>\n",
              "      <td>118023116.0</td>\n",
              "    </tr>\n",
              "    <tr>\n",
              "      <th>2515</th>\n",
              "      <td>12/6/2021</td>\n",
              "      <td>164.290</td>\n",
              "      <td>167.8799</td>\n",
              "      <td>164.28</td>\n",
              "      <td>165.32</td>\n",
              "      <td>107496982.0</td>\n",
              "    </tr>\n",
              "    <tr>\n",
              "      <th>2516</th>\n",
              "      <td>12/7/2021</td>\n",
              "      <td>169.080</td>\n",
              "      <td>171.5800</td>\n",
              "      <td>168.34</td>\n",
              "      <td>171.18</td>\n",
              "      <td>120405352.0</td>\n",
              "    </tr>\n",
              "  </tbody>\n",
              "</table>\n",
              "</div>"
            ],
            "text/plain": [
              "           Date     Open      High     Low   Close       Volume\n",
              "2512  12/1/2021  167.480  170.3000  164.53  164.77  152423003.0\n",
              "2513  12/2/2021  158.735  164.2000  157.80  163.76  136739174.0\n",
              "2514  12/3/2021  164.020  164.9600  159.72  161.84  118023116.0\n",
              "2515  12/6/2021  164.290  167.8799  164.28  165.32  107496982.0\n",
              "2516  12/7/2021  169.080  171.5800  168.34  171.18  120405352.0"
            ]
          },
          "metadata": {},
          "execution_count": 37
        }
      ]
    },
    {
      "cell_type": "code",
      "source": [
        "stock.shape"
      ],
      "metadata": {
        "colab": {
          "base_uri": "https://localhost:8080/"
        },
        "id": "wYRVxiFPO5D7",
        "outputId": "7ba9b060-e91d-4cf4-d65a-bee5bec34955"
      },
      "execution_count": 38,
      "outputs": [
        {
          "output_type": "execute_result",
          "data": {
            "text/plain": [
              "(2517, 6)"
            ]
          },
          "metadata": {},
          "execution_count": 38
        }
      ]
    },
    {
      "cell_type": "code",
      "source": [
        "stock.info()"
      ],
      "metadata": {
        "colab": {
          "base_uri": "https://localhost:8080/"
        },
        "id": "bDxJbLHgye8y",
        "outputId": "4e7bf376-bed8-4af6-a3ba-06da2827ff0b"
      },
      "execution_count": 39,
      "outputs": [
        {
          "output_type": "stream",
          "name": "stdout",
          "text": [
            "<class 'pandas.core.frame.DataFrame'>\n",
            "Int64Index: 2517 entries, 0 to 2516\n",
            "Data columns (total 6 columns):\n",
            " #   Column  Non-Null Count  Dtype  \n",
            "---  ------  --------------  -----  \n",
            " 0   Date    2517 non-null   object \n",
            " 1   Open    2517 non-null   float64\n",
            " 2   High    2517 non-null   float64\n",
            " 3   Low     2517 non-null   float64\n",
            " 4   Close   2517 non-null   float64\n",
            " 5   Volume  2517 non-null   float64\n",
            "dtypes: float64(5), object(1)\n",
            "memory usage: 137.6+ KB\n"
          ]
        }
      ]
    },
    {
      "cell_type": "code",
      "source": [
        "miss_val = stock.isna().sum()\n",
        "miss_val"
      ],
      "metadata": {
        "colab": {
          "base_uri": "https://localhost:8080/"
        },
        "id": "efdSszIJyqMP",
        "outputId": "012e5884-48a6-4a45-92bb-33c6502bc122"
      },
      "execution_count": 40,
      "outputs": [
        {
          "output_type": "execute_result",
          "data": {
            "text/plain": [
              "Date      0\n",
              "Open      0\n",
              "High      0\n",
              "Low       0\n",
              "Close     0\n",
              "Volume    0\n",
              "dtype: int64"
            ]
          },
          "metadata": {},
          "execution_count": 40
        }
      ]
    },
    {
      "cell_type": "code",
      "source": [
        "# Drop negatively correlated columns\n",
        "from datetime import datetime\n",
        "stock.Date=pd.to_datetime(stock.Date )\n",
        "stock.info()\n",
        "stock['Month']=pd.DatetimeIndex(stock['Date']).month\n",
        "stock['Year']=pd.DatetimeIndex(stock['Date']).year\n",
        "stock['day']=pd.DatetimeIndex(stock['Date']).day\n",
        "stock.drop(['Date'],axis=1,inplace=True)\n"
      ],
      "metadata": {
        "colab": {
          "base_uri": "https://localhost:8080/"
        },
        "id": "KAj919H1JOwp",
        "outputId": "7fcac0c2-6623-4915-e5e3-a76d146436c1"
      },
      "execution_count": 41,
      "outputs": [
        {
          "output_type": "stream",
          "name": "stdout",
          "text": [
            "<class 'pandas.core.frame.DataFrame'>\n",
            "Int64Index: 2517 entries, 0 to 2516\n",
            "Data columns (total 6 columns):\n",
            " #   Column  Non-Null Count  Dtype         \n",
            "---  ------  --------------  -----         \n",
            " 0   Date    2517 non-null   datetime64[ns]\n",
            " 1   Open    2517 non-null   float64       \n",
            " 2   High    2517 non-null   float64       \n",
            " 3   Low     2517 non-null   float64       \n",
            " 4   Close   2517 non-null   float64       \n",
            " 5   Volume  2517 non-null   float64       \n",
            "dtypes: datetime64[ns](1), float64(5)\n",
            "memory usage: 137.6 KB\n"
          ]
        }
      ]
    },
    {
      "cell_type": "code",
      "source": [
        "stock.info()"
      ],
      "metadata": {
        "colab": {
          "base_uri": "https://localhost:8080/"
        },
        "id": "oDWonP2nLNIw",
        "outputId": "3dd6df1e-486e-4607-df51-6c24eca8b8ae"
      },
      "execution_count": 42,
      "outputs": [
        {
          "output_type": "stream",
          "name": "stdout",
          "text": [
            "<class 'pandas.core.frame.DataFrame'>\n",
            "Int64Index: 2517 entries, 0 to 2516\n",
            "Data columns (total 8 columns):\n",
            " #   Column  Non-Null Count  Dtype  \n",
            "---  ------  --------------  -----  \n",
            " 0   Open    2517 non-null   float64\n",
            " 1   High    2517 non-null   float64\n",
            " 2   Low     2517 non-null   float64\n",
            " 3   Close   2517 non-null   float64\n",
            " 4   Volume  2517 non-null   float64\n",
            " 5   Month   2517 non-null   int64  \n",
            " 6   Year    2517 non-null   int64  \n",
            " 7   day     2517 non-null   int64  \n",
            "dtypes: float64(5), int64(3)\n",
            "memory usage: 177.0 KB\n"
          ]
        }
      ]
    },
    {
      "cell_type": "code",
      "source": [
        "corr = stock.corr()\n",
        "corr"
      ],
      "metadata": {
        "colab": {
          "base_uri": "https://localhost:8080/",
          "height": 300
        },
        "id": "5eEaqX2yMppg",
        "outputId": "50aa96e5-36d7-45ed-99de-ec808c194356"
      },
      "execution_count": 43,
      "outputs": [
        {
          "output_type": "execute_result",
          "data": {
            "text/html": [
              "<div>\n",
              "<style scoped>\n",
              "    .dataframe tbody tr th:only-of-type {\n",
              "        vertical-align: middle;\n",
              "    }\n",
              "\n",
              "    .dataframe tbody tr th {\n",
              "        vertical-align: top;\n",
              "    }\n",
              "\n",
              "    .dataframe thead th {\n",
              "        text-align: right;\n",
              "    }\n",
              "</style>\n",
              "<table border=\"1\" class=\"dataframe\">\n",
              "  <thead>\n",
              "    <tr style=\"text-align: right;\">\n",
              "      <th></th>\n",
              "      <th>Open</th>\n",
              "      <th>High</th>\n",
              "      <th>Low</th>\n",
              "      <th>Close</th>\n",
              "      <th>Volume</th>\n",
              "      <th>Month</th>\n",
              "      <th>Year</th>\n",
              "      <th>day</th>\n",
              "    </tr>\n",
              "  </thead>\n",
              "  <tbody>\n",
              "    <tr>\n",
              "      <th>Open</th>\n",
              "      <td>1.000000</td>\n",
              "      <td>0.999882</td>\n",
              "      <td>0.999840</td>\n",
              "      <td>0.999721</td>\n",
              "      <td>-0.419466</td>\n",
              "      <td>0.094243</td>\n",
              "      <td>0.830106</td>\n",
              "      <td>-0.003731</td>\n",
              "    </tr>\n",
              "    <tr>\n",
              "      <th>High</th>\n",
              "      <td>0.999882</td>\n",
              "      <td>1.000000</td>\n",
              "      <td>0.999801</td>\n",
              "      <td>0.999857</td>\n",
              "      <td>-0.417482</td>\n",
              "      <td>0.093771</td>\n",
              "      <td>0.830327</td>\n",
              "      <td>-0.003734</td>\n",
              "    </tr>\n",
              "    <tr>\n",
              "      <th>Low</th>\n",
              "      <td>0.999840</td>\n",
              "      <td>0.999801</td>\n",
              "      <td>1.000000</td>\n",
              "      <td>0.999858</td>\n",
              "      <td>-0.422621</td>\n",
              "      <td>0.094606</td>\n",
              "      <td>0.830484</td>\n",
              "      <td>-0.003407</td>\n",
              "    </tr>\n",
              "    <tr>\n",
              "      <th>Close</th>\n",
              "      <td>0.999721</td>\n",
              "      <td>0.999857</td>\n",
              "      <td>0.999858</td>\n",
              "      <td>1.000000</td>\n",
              "      <td>-0.420279</td>\n",
              "      <td>0.094169</td>\n",
              "      <td>0.830459</td>\n",
              "      <td>-0.003879</td>\n",
              "    </tr>\n",
              "    <tr>\n",
              "      <th>Volume</th>\n",
              "      <td>-0.419466</td>\n",
              "      <td>-0.417482</td>\n",
              "      <td>-0.422621</td>\n",
              "      <td>-0.420279</td>\n",
              "      <td>1.000000</td>\n",
              "      <td>-0.098943</td>\n",
              "      <td>-0.652390</td>\n",
              "      <td>0.021088</td>\n",
              "    </tr>\n",
              "    <tr>\n",
              "      <th>Month</th>\n",
              "      <td>0.094243</td>\n",
              "      <td>0.093771</td>\n",
              "      <td>0.094606</td>\n",
              "      <td>0.094169</td>\n",
              "      <td>-0.098943</td>\n",
              "      <td>1.000000</td>\n",
              "      <td>-0.034825</td>\n",
              "      <td>-0.003209</td>\n",
              "    </tr>\n",
              "    <tr>\n",
              "      <th>Year</th>\n",
              "      <td>0.830106</td>\n",
              "      <td>0.830327</td>\n",
              "      <td>0.830484</td>\n",
              "      <td>0.830459</td>\n",
              "      <td>-0.652390</td>\n",
              "      <td>-0.034825</td>\n",
              "      <td>1.000000</td>\n",
              "      <td>-0.008218</td>\n",
              "    </tr>\n",
              "    <tr>\n",
              "      <th>day</th>\n",
              "      <td>-0.003731</td>\n",
              "      <td>-0.003734</td>\n",
              "      <td>-0.003407</td>\n",
              "      <td>-0.003879</td>\n",
              "      <td>0.021088</td>\n",
              "      <td>-0.003209</td>\n",
              "      <td>-0.008218</td>\n",
              "      <td>1.000000</td>\n",
              "    </tr>\n",
              "  </tbody>\n",
              "</table>\n",
              "</div>"
            ],
            "text/plain": [
              "            Open      High       Low  ...     Month      Year       day\n",
              "Open    1.000000  0.999882  0.999840  ...  0.094243  0.830106 -0.003731\n",
              "High    0.999882  1.000000  0.999801  ...  0.093771  0.830327 -0.003734\n",
              "Low     0.999840  0.999801  1.000000  ...  0.094606  0.830484 -0.003407\n",
              "Close   0.999721  0.999857  0.999858  ...  0.094169  0.830459 -0.003879\n",
              "Volume -0.419466 -0.417482 -0.422621  ... -0.098943 -0.652390  0.021088\n",
              "Month   0.094243  0.093771  0.094606  ...  1.000000 -0.034825 -0.003209\n",
              "Year    0.830106  0.830327  0.830484  ... -0.034825  1.000000 -0.008218\n",
              "day    -0.003731 -0.003734 -0.003407  ... -0.003209 -0.008218  1.000000\n",
              "\n",
              "[8 rows x 8 columns]"
            ]
          },
          "metadata": {},
          "execution_count": 43
        }
      ]
    },
    {
      "cell_type": "code",
      "source": [
        "plt.figure(figsize=(8,8))\n",
        "sns.heatmap(corr, annot=True, cmap='cubehelix_r',square=True) \n",
        "plt.show()"
      ],
      "metadata": {
        "colab": {
          "base_uri": "https://localhost:8080/",
          "height": 470
        },
        "id": "OZBkoW9ZNU7z",
        "outputId": "10205e84-1b23-49f3-b674-42459d636353"
      },
      "execution_count": 44,
      "outputs": [
        {
          "output_type": "display_data",
          "data": {
            "image/png": "[encoded data removed]",
            "text/plain": [
              "<Figure size 576x576 with 2 Axes>"
            ]
          },
          "metadata": {
            "needs_background": "light"
          }
        }
      ]
    },
    {
      "cell_type": "code",
      "source": [
        "stock.shape"
      ],
      "metadata": {
        "colab": {
          "base_uri": "https://localhost:8080/"
        },
        "id": "rtqoK83KPkZq",
        "outputId": "e29b3131-bef3-4363-dc1a-2720ac327e06"
      },
      "execution_count": 45,
      "outputs": [
        {
          "output_type": "execute_result",
          "data": {
            "text/plain": [
              "(2517, 8)"
            ]
          },
          "metadata": {},
          "execution_count": 45
        }
      ]
    },
    {
      "cell_type": "code",
      "source": [
        "X = stock.drop(['Close'], axis=1)\n",
        "y = stock['Close']"
      ],
      "metadata": {
        "id": "VkjgSfJ6PphV"
      },
      "execution_count": 46,
      "outputs": []
    },
    {
      "cell_type": "code",
      "source": [
        "from sklearn.model_selection import train_test_split\n",
        "X_train, X_test, y_train, y_test = train_test_split(X, y, test_size= 0.25, random_state =40)"
      ],
      "metadata": {
        "id": "dRDxCAEjQQV5"
      },
      "execution_count": 47,
      "outputs": []
    },
    {
      "cell_type": "code",
      "source": [
        "#from sklearn.preprocessing import StandardScaler\n",
        "#sc_X = StandardScaler()\n",
        "#X_train = sc_X. fit_transform(X_train)\n",
        "#X_test = sc_X. fit_transform(X_test)"
      ],
      "metadata": {
        "id": "0HgdLsv8Tgpj"
      },
      "execution_count": 48,
      "outputs": []
    },
    {
      "cell_type": "code",
      "source": [
        "print('Dimension of Stock dataframe:',X_train.shape)\n",
        "print('Dimension of Stock dataframe:',y_train.shape)\n",
        "print('Dimension of val_x dataframe:',X_test.shape)\n",
        "print('Dimension of val_y dataframe:',y_test.shape)"
      ],
      "metadata": {
        "colab": {
          "base_uri": "https://localhost:8080/"
        },
        "id": "XPu9GiMJSvoe",
        "outputId": "c6a0f9c4-4669-4d27-b97a-3958342089e2"
      },
      "execution_count": 49,
      "outputs": [
        {
          "output_type": "stream",
          "name": "stdout",
          "text": [
            "Dimension of Stock dataframe: (1887, 7)\n",
            "Dimension of Stock dataframe: (1887,)\n",
            "Dimension of val_x dataframe: (630, 7)\n",
            "Dimension of val_y dataframe: (630,)\n"
          ]
        }
      ]
    },
    {
      "cell_type": "code",
      "source": [
        "from sklearn.linear_model import LinearRegression\n",
        "ln_reg= LinearRegression()\n",
        "ln_reg = ln_reg.fit(X_train, y_train)"
      ],
      "metadata": {
        "id": "PrHE6dUbTN__"
      },
      "execution_count": 50,
      "outputs": []
    },
    {
      "cell_type": "code",
      "source": [
        "from sklearn.metrics import mean_squared_error, mean_absolute_error, r2_score\n",
        "df_pred = ln_reg.predict(X_test)\n",
        "print('Mean Absolute Error of linear regression:',mean_absolute_error(df_pred, y_test))\n",
        "print('Mean Square Error of linear regression:', mean_squared_error(df_pred, y_test))\n",
        "print('R_Squared Score of linear regression:', r2_score(y_test, df_pred))"
      ],
      "metadata": {
        "colab": {
          "base_uri": "https://localhost:8080/"
        },
        "id": "ZEDYRg52U1jy",
        "outputId": "6455be3d-fa2b-45fa-e072-ce391ced7b31"
      },
      "execution_count": 51,
      "outputs": [
        {
          "output_type": "stream",
          "name": "stdout",
          "text": [
            "Mean Absolute Error of linear regression: 0.21501990971003504\n",
            "Mean Square Error of linear regression: 0.18492533098191205\n",
            "R_Squared Score of linear regression: 0.9998596416759546\n"
          ]
        }
      ]
    },
    {
      "cell_type": "code",
      "source": [
        "# prediction\n",
        "y_pred = ln_reg.predict(X_test)\n",
        "pred_stock = pd.DataFrame({'Actual': y_test, 'Predicted': y_pred})\n",
        "pred_stock.head()\n"
      ],
      "metadata": {
        "colab": {
          "base_uri": "https://localhost:8080/",
          "height": 206
        },
        "id": "JibBvKzhW1QU",
        "outputId": "d126f3fb-f017-4d9a-e76b-7d222669277a"
      },
      "execution_count": 52,
      "outputs": [
        {
          "output_type": "execute_result",
          "data": {
            "text/html": [
              "<div>\n",
              "<style scoped>\n",
              "    .dataframe tbody tr th:only-of-type {\n",
              "        vertical-align: middle;\n",
              "    }\n",
              "\n",
              "    .dataframe tbody tr th {\n",
              "        vertical-align: top;\n",
              "    }\n",
              "\n",
              "    .dataframe thead th {\n",
              "        text-align: right;\n",
              "    }\n",
              "</style>\n",
              "<table border=\"1\" class=\"dataframe\">\n",
              "  <thead>\n",
              "    <tr style=\"text-align: right;\">\n",
              "      <th></th>\n",
              "      <th>Actual</th>\n",
              "      <th>Predicted</th>\n",
              "    </tr>\n",
              "  </thead>\n",
              "  <tbody>\n",
              "    <tr>\n",
              "      <th>1275</th>\n",
              "      <td>29.0375</td>\n",
              "      <td>28.874869</td>\n",
              "    </tr>\n",
              "    <tr>\n",
              "      <th>1517</th>\n",
              "      <td>44.1050</td>\n",
              "      <td>44.180849</td>\n",
              "    </tr>\n",
              "    <tr>\n",
              "      <th>2169</th>\n",
              "      <td>92.8450</td>\n",
              "      <td>93.175502</td>\n",
              "    </tr>\n",
              "    <tr>\n",
              "      <th>1133</th>\n",
              "      <td>24.7075</td>\n",
              "      <td>24.798765</td>\n",
              "    </tr>\n",
              "    <tr>\n",
              "      <th>294</th>\n",
              "      <td>17.1403</td>\n",
              "      <td>17.175019</td>\n",
              "    </tr>\n",
              "  </tbody>\n",
              "</table>\n",
              "</div>"
            ],
            "text/plain": [
              "       Actual  Predicted\n",
              "1275  29.0375  28.874869\n",
              "1517  44.1050  44.180849\n",
              "2169  92.8450  93.175502\n",
              "1133  24.7075  24.798765\n",
              "294   17.1403  17.175019"
            ]
          },
          "metadata": {},
          "execution_count": 52
        }
      ]
    },
    {
      "cell_type": "code",
      "source": [
        "Acc = []"
      ],
      "metadata": {
        "id": "8sdpDvudgrVx"
      },
      "execution_count": 53,
      "outputs": []
    },
    {
      "cell_type": "code",
      "source": [
        "from sklearn.metrics import r2_score\n",
        "print(\"Accuracy score of the predictions: {0}\".format(r2_score(y_test, y_pred)))\n",
        "Acc.append(r2_score(y_test, y_pred))\n"
      ],
      "metadata": {
        "colab": {
          "base_uri": "https://localhost:8080/"
        },
        "id": "hOI9DT3XfoGr",
        "outputId": "7439fb10-27a9-4567-e187-0d60d3b6d9b3"
      },
      "execution_count": 54,
      "outputs": [
        {
          "output_type": "stream",
          "name": "stdout",
          "text": [
            "Accuracy score of the predictions: 0.9998596416759546\n"
          ]
        }
      ]
    },
    {
      "cell_type": "code",
      "source": [
        "#plt.figure(figsize=(8,8))\n",
        "#plt.ylabel('Close', fontsize=8)\n",
        "#plt.plot(pred_stock)\n",
        "#plt.plot(['y_test', 'df_pred'])\n",
        "#plt.show()\n"
      ],
      "metadata": {
        "id": "kPfIooWGgyjn"
      },
      "execution_count": 65,
      "outputs": []
    },
    {
      "cell_type": "code",
      "source": [
        "from sklearn.ensemble import RandomForestRegressor\n",
        "rfrg = RandomForestRegressor(n_estimators= 100)\n",
        "rfrg"
      ],
      "metadata": {
        "colab": {
          "base_uri": "https://localhost:8080/"
        },
        "id": "Ea-gLisxNZe9",
        "outputId": "18bab3a2-40a6-4959-b500-a4b59c2a0724"
      },
      "execution_count": 56,
      "outputs": [
        {
          "output_type": "execute_result",
          "data": {
            "text/plain": [
              "RandomForestRegressor()"
            ]
          },
          "metadata": {},
          "execution_count": 56
        }
      ]
    },
    {
      "cell_type": "code",
      "source": [
        "rfrg.fit(X_train, y_train)\n",
        "rfrg.predict(X_test)"
      ],
      "metadata": {
        "colab": {
          "base_uri": "https://localhost:8080/"
        },
        "id": "3MLLgupNV9e8",
        "outputId": "65630c55-994a-4875-a05b-435582d8093f"
      },
      "execution_count": 57,
      "outputs": [
        {
          "output_type": "execute_result",
          "data": {
            "text/plain": [
              "array([ 28.8771  ,  44.02555 ,  94.538   ,  24.76108 ,  17.242788,\n",
              "        19.094773,  15.869563,  27.406525,  22.693874,  14.03678 ,\n",
              "       142.8049  ,  18.8022  ,  20.914437,  33.910757,  28.16455 ,\n",
              "        29.028125,  32.39819 ,  34.839175,  25.929625, 135.8526  ,\n",
              "        33.422683,  23.526976,  38.49405 ,  15.441208,  23.533461,\n",
              "        17.606991,  25.100781,  55.07225 ,  28.393109,  39.1484  ,\n",
              "       145.8308  ,  42.3815  ,  15.140302,  35.997925,  29.2234  ,\n",
              "        16.216981,  59.3985  ,  43.143   , 145.9805  ,  28.1059  ,\n",
              "        46.732375,  18.37575 ,  48.67115 ,  54.941575,  24.238299,\n",
              "        48.626625,  27.847675, 136.9261  ,  28.606975,  59.677875,\n",
              "        17.863805,  39.922025,  25.7688  , 132.630975,  64.14895 ,\n",
              "        48.708625,  27.365775,  37.5256  ,  30.112525,  80.661625,\n",
              "        14.015624, 115.144675, 126.79375 ,  23.459966,  18.557534,\n",
              "        31.150936,  24.928709,  30.6837  ,  40.379425, 129.707875,\n",
              "        54.80825 , 115.4944  ,  44.469275,  22.646527,  43.743825,\n",
              "        54.755825,  15.03699 ,  49.4037  ,  28.314059,  22.958344,\n",
              "        77.0174  ,  24.922293,  38.342975, 122.7748  ,  35.217625,\n",
              "        18.637055,  23.6014  ,  20.231955,  18.887398,  35.935825,\n",
              "        35.368225,  44.06155 ,  13.660687,  50.7655  ,  60.960325,\n",
              "        43.16625 ,  18.748217,  28.431299,  39.2907  ,  36.026375,\n",
              "        41.27575 ,  39.8177  ,  26.47795 ,  16.382382,  31.989472,\n",
              "        24.690187,  47.42655 ,  26.54665 ,  19.164155,  31.49767 ,\n",
              "        18.3098  ,  18.585772,  24.334456,  28.9671  ,  30.5272  ,\n",
              "       120.13535 ,  17.947633,  35.037875,  65.092725, 113.204   ,\n",
              "        15.064775,  19.282051,  29.66925 , 143.8303  ,  39.9501  ,\n",
              "        36.5907  ,  27.475675,  24.453548,  25.296225,  43.216225,\n",
              "        79.859675, 154.1354  ,  30.779799,  35.913675,  26.288025,\n",
              "        51.9393  ,  24.104132,  24.130358,  38.314575,  50.838925,\n",
              "        97.34135 ,  28.678975,  31.675512,  44.304475,  16.940566,\n",
              "        24.288065,  32.350695,  18.595837, 133.7311  ,  24.962461,\n",
              "        28.479625,  21.077836,  22.682773,  41.631375,  39.278725,\n",
              "       131.5135  ,  18.73895 ,  41.983325, 145.0189  ,  20.592743,\n",
              "        28.897674, 127.018525,  46.14615 ,  50.02885 , 142.6059  ,\n",
              "        29.480554,  14.250485,  32.189919,  22.398023,  28.663975,\n",
              "        40.935075,  23.739611,  18.944111, 148.0384  , 148.8213  ,\n",
              "        44.262075,  14.113513,  23.392251,  31.80845 ,  16.05782 ,\n",
              "        17.892351,  31.801688, 115.30855 ,  41.089025,  33.957277,\n",
              "        34.814475,  39.800675,  29.62871 , 115.8617  ,  30.396   ,\n",
              "        18.399288, 116.88385 , 122.84055 ,  44.6634  ,  47.7663  ,\n",
              "        32.184281,  35.243475, 113.110875,  96.0587  , 129.8708  ,\n",
              "        15.860963,  27.007175,  24.801601,  21.334582,  26.19455 ,\n",
              "        38.8154  ,  16.187976,  45.515025,  39.00675 ,  25.08394 ,\n",
              "        26.863362,  54.108225,  30.52345 ,  80.7927  ,  22.653151,\n",
              "        47.629375,  28.360275,  28.345525,  28.939525,  23.992399,\n",
              "        21.417809, 155.9796  ,  24.402817,  59.172325,  19.154323,\n",
              "       145.3743  ,  15.071982, 113.279975,  29.34085 ,  42.5807  ,\n",
              "        55.36875 ,  25.528372,  23.319377,  54.665475, 137.033   ,\n",
              "        27.581825,  19.84219 ,  44.01025 ,  32.16818 ,  32.392159,\n",
              "        80.72445 , 133.01975 ,  27.337825,  29.1374  ,  23.928782,\n",
              "        27.361462,  37.469075, 130.56955 ,  22.699247,  32.259124,\n",
              "       121.1081  ,  65.297225, 161.1199  , 121.2505  ,  43.828575,\n",
              "       131.5681  ,  69.4576  ,  28.992125,  32.130067,  48.6222  ,\n",
              "        24.328591,  39.204975,  31.461917,  20.900074,  19.849304,\n",
              "       113.057575,  34.260284,  18.981267,  88.7453  ,  23.683323,\n",
              "        22.438441,  47.824625,  43.7105  ,  20.462894,  63.459025,\n",
              "        51.131275,  41.8796  ,  20.794066,  42.634775,  19.302431,\n",
              "        23.448204,  16.407254,  21.124557,  14.007997,  26.7681  ,\n",
              "        64.261   ,  22.212505,  55.415289,  18.970785,  39.965975,\n",
              "        16.889335,  56.672075, 125.88515 ,  16.265849,  51.0248  ,\n",
              "        17.940732,  29.222475,  14.792522,  46.3344  ,  21.886863,\n",
              "       144.433   ,  25.917625,  42.57795 ,  40.491175,  46.873725,\n",
              "        15.153967,  28.309797,  51.96385 ,  47.7766  ,  32.473879,\n",
              "        19.433397,  47.750225,  74.627675,  24.369714,  19.326064,\n",
              "        24.043434,  54.87375 ,  35.8878  ,  68.18475 ,  43.142825,\n",
              "        29.19365 ,  29.943925, 135.0695  ,  24.917104,  90.001575,\n",
              "        28.618225,  24.574165,  22.209997,  29.018312, 146.6738  ,\n",
              "        28.61675 ,  19.863076,  46.2619  ,  23.63655 ,  59.43015 ,\n",
              "        31.387118,  21.272473, 119.3288  ,  28.76295 ,  21.171016,\n",
              "        39.104925,  15.430877,  35.266   ,  28.393462,  44.876   ,\n",
              "        35.388325,  51.18365 ,  29.1569  ,  18.75444 ,  23.570116,\n",
              "       150.9     ,  31.178925,  29.530379, 128.3961  ,  37.96235 ,\n",
              "        19.782521,  23.954125, 148.9745  ,  32.246581,  35.43925 ,\n",
              "        79.564725,  46.881025,  18.955005,  69.9323  ,  28.817125,\n",
              "        24.361916, 115.73835 ,  18.868998,  65.564225,  29.368625,\n",
              "        43.199675,  78.6169  ,  16.192109,  25.536122,  17.54475 ,\n",
              "        42.67835 ,  47.169425,  41.80835 ,  32.027566,  18.676499,\n",
              "        19.304179,  21.71173 ,  16.731799,  31.432146,  25.70705 ,\n",
              "       109.26435 ,  39.848475,  43.08225 ,  25.632025,  41.741925,\n",
              "        47.00875 ,  27.223187, 126.75215 ,  23.77402 ,  22.198669,\n",
              "        22.636379,  41.4063  ,  47.320775, 115.12885 ,  67.5131  ,\n",
              "       161.7447  ,  16.382282,  41.9282  ,  67.65335 ,  25.109734,\n",
              "        23.449824, 120.6457  ,  23.778567,  19.44195 ,  48.370375,\n",
              "        21.610134,  48.428525,  29.97965 ,  25.257355,  14.980938,\n",
              "        25.065423, 116.947175, 117.9489  ,  24.439092,  15.192526,\n",
              "        16.123165,  26.664725,  22.658872,  32.975347,  34.154342,\n",
              "        36.268775,  23.789915,  95.760525,  17.326068,  15.252085,\n",
              "        17.886295, 146.0961  ,  27.29046 ,  38.945575,  47.016275,\n",
              "        38.64855 ,  18.578109,  27.951375,  24.770702,  27.526825,\n",
              "       120.0623  ,  17.93057 ,  41.803525, 116.863825,  44.608   ,\n",
              "        61.456775,  24.959588, 115.97445 ,  28.196025,  15.678369,\n",
              "        29.9718  ,  50.056525,  18.927502,  26.63515 ,  15.962438,\n",
              "        37.827575,  43.47965 ,  23.335293,  31.401026,  78.955575,\n",
              "        50.836725,  43.284525,  16.770076,  51.9948  ,  18.582813,\n",
              "       133.2017  ,  86.68955 ,  74.08405 , 130.0045  ,  27.7239  ,\n",
              "        29.80655 ,  26.813625,  77.842025,  15.944948,  24.319772,\n",
              "        27.9299  , 133.6545  ,  24.169963,  44.746575,  51.8194  ,\n",
              "        47.593825,  14.422747, 122.6767  ,  20.685624,  43.329875,\n",
              "       145.2253  ,  14.020967,  44.275325,  20.552905,  49.789375,\n",
              "        24.64388 ,  17.647449,  27.649775, 150.9631  ,  23.50449 ,\n",
              "        24.368783,  54.817975,  22.895752,  70.65175 ,  42.51445 ,\n",
              "        23.425118,  87.46435 ,  21.781202,  28.150725,  48.5811  ,\n",
              "        38.976025,  27.921462,  19.426344,  38.463775,  27.537125,\n",
              "       130.28505 ,  25.414625,  49.987925,  41.343675,  22.641928,\n",
              "        64.0587  ,  19.307571,  26.48    , 125.761725,  20.012438,\n",
              "        47.74365 ,  31.247036,  81.7445  ,  15.022386, 132.6018  ,\n",
              "        76.36805 ,  27.051671,  64.63415 ,  28.4685  ,  18.5729  ,\n",
              "       149.0583  ,  24.739675,  21.38435 , 126.757825,  23.806901,\n",
              "       109.25615 , 150.5885  ,  28.80015 ,  25.070359,  73.371575,\n",
              "        23.761532, 153.9365  ,  23.082364,  29.218223,  53.90265 ,\n",
              "       130.71975 ,  18.365745,  60.927725,  26.991075,  32.61848 ,\n",
              "        19.4698  ,  79.926375,  18.857365,  49.5417  ,  27.0621  ,\n",
              "        27.3518  ,  27.349975,  23.857528,  32.138698,  29.727887,\n",
              "        27.891425,  44.20475 ,  31.346906, 149.0372  ,  17.898127,\n",
              "        29.241275,  24.239765,  28.375599,  38.809925,  77.5864  ,\n",
              "        16.592928,  24.854293,  43.728675,  29.0557  ,  14.70444 ,\n",
              "        39.0619  ,  16.276912,  61.699975,  23.933889,  27.01255 ,\n",
              "        46.986225,  50.02805 ,  81.17235 ,  18.916122, 120.8375  ,\n",
              "        17.41923 ,  66.651   ,  19.716242,  71.7811  , 149.1184  ,\n",
              "        28.313598,  28.707025,  24.406478,  18.559934,  23.316337,\n",
              "        14.316184,  17.502582,  27.025024,  29.789825,  29.511486,\n",
              "        69.06245 ,  29.649398,  54.08245 ,  26.5946  ,  20.251079,\n",
              "        49.35625 ,  24.176303,  53.246   ,  32.151389,  14.21493 ,\n",
              "        15.339691,  37.5407  ,  38.481575,  35.956775,  21.646243,\n",
              "        27.63225 , 146.4089  , 120.88815 ,  28.892875,  15.365809,\n",
              "        41.250925,  22.238811,  15.876797,  21.183344,  13.769527,\n",
              "        26.79885 ,  20.812779,  55.1926  ,  57.036125,  27.601325])"
            ]
          },
          "metadata": {},
          "execution_count": 57
        }
      ]
    },
    {
      "cell_type": "code",
      "source": [
        "from sklearn.model_selection import cross_val_score\n",
        "\n",
        "Stock_forest_score = cross_val_score(rfrg, X_train, y_train,scoring=\"neg_mean_squared_error\", cv=10)\n",
        "forest_rmse_scores = np.sqrt(-Stock_forest_score)\n",
        "(forest_rmse_scores)"
      ],
      "metadata": {
        "colab": {
          "base_uri": "https://localhost:8080/"
        },
        "id": "yC85nzC3WQ5p",
        "outputId": "445f1b71-b661-4357-a42e-1b394a53f009"
      },
      "execution_count": 58,
      "outputs": [
        {
          "output_type": "execute_result",
          "data": {
            "text/plain": [
              "array([0.54496094, 0.56622089, 0.43892436, 0.68893282, 0.71588616,\n",
              "       0.53255073, 0.57008698, 0.45827283, 0.66977916, 0.71990954])"
            ]
          },
          "metadata": {},
          "execution_count": 58
        }
      ]
    },
    {
      "cell_type": "code",
      "source": [
        "Stock_pred = rfrg.predict(X_train)\n",
        "forest_mse = mean_squared_error(y_train, Stock_pred) \n",
        "forest_rmse = np.sqrt(forest_mse) \n",
        "forest_rmse\n"
      ],
      "metadata": {
        "colab": {
          "base_uri": "https://localhost:8080/"
        },
        "id": "vDk0UHWxd7dm",
        "outputId": "41c31c75-1bc5-4e7c-fa09-32e5c3def040"
      },
      "execution_count": 59,
      "outputs": [
        {
          "output_type": "execute_result",
          "data": {
            "text/plain": [
              "0.22816917293965622"
            ]
          },
          "metadata": {},
          "execution_count": 59
        }
      ]
    },
    {
      "cell_type": "code",
      "source": [
        "import xgboost\n",
        "from xgboost import XGBRegressor\n",
        "from sklearn.model_selection import RandomizedSearchCV\n",
        "xgb_model = XGBRegressor()\n",
        "\n",
        "parameters = {'nthread':[4], #when use hyperthread, xgboost may become slower\n",
        "              'objective':['reg:linear','reg:squarederror'],\n",
        "              'learning_rate': [.02,.03, 0.05, .07, .1,.2,.3,.4,.5], #so called `eta` value\n",
        "              'max_depth': [2,3, 5, 6, 7],\n",
        "              'min_child_weight': [1,2,3,4,5,6],\n",
        "              'silent': [1],\n",
        "              'subsample': [0.7,.1,.2,.3,.6,.7],\n",
        "              'colsample_bytree': [0.7,.1,.2,.3],\n",
        "              'n_estimators': [10,20,30,40,50,60,70,80,90,100]}\n",
        "\n",
        "search = RandomizedSearchCV(xgb_model, param_distributions=parameters, random_state=42,n_iter=200, cv=3, verbose=1, n_jobs=1, return_train_score=True)\n",
        "\n",
        "search.fit(X_train, y_train)"
      ],
      "metadata": {
        "colab": {
          "base_uri": "https://localhost:8080/"
        },
        "id": "Ff0_qYCegAeO",
        "outputId": "7a81603e-11fe-45bc-f431-8d0b3039b7fa"
      },
      "execution_count": 60,
      "outputs": [
        {
          "output_type": "stream",
          "name": "stdout",
          "text": [
            "Fitting 3 folds for each of 200 candidates, totalling 600 fits\n"
          ]
        },
        {
          "output_type": "execute_result",
          "data": {
            "text/plain": [
              "RandomizedSearchCV(cv=3, estimator=XGBRegressor(), n_iter=200, n_jobs=1,\n",
              "                   param_distributions={'colsample_bytree': [0.7, 0.1, 0.2,\n",
              "                                                             0.3],\n",
              "                                        'learning_rate': [0.02, 0.03, 0.05,\n",
              "                                                          0.07, 0.1, 0.2, 0.3,\n",
              "                                                          0.4, 0.5],\n",
              "                                        'max_depth': [2, 3, 5, 6, 7],\n",
              "                                        'min_child_weight': [1, 2, 3, 4, 5, 6],\n",
              "                                        'n_estimators': [10, 20, 30, 40, 50, 60,\n",
              "                                                         70, 80, 90, 100],\n",
              "                                        'nthread': [4],\n",
              "                                        'objective': ['reg:linear',\n",
              "                                                      'reg:squarederror'],\n",
              "                                        'silent': [1],\n",
              "                                        'subsample': [0.7, 0.1, 0.2, 0.3, 0.6,\n",
              "                                                      0.7]},\n",
              "                   random_state=42, return_train_score=True, verbose=1)"
            ]
          },
          "metadata": {},
          "execution_count": 60
        }
      ]
    },
    {
      "cell_type": "code",
      "source": [
        "from sklearn.neighbors import KNeighborsRegressor\n",
        "from sklearn.ensemble import RandomForestRegressor\n",
        "from sklearn.preprocessing import StandardScaler,MinMaxScaler\n",
        "from sklearn.decomposition import PCA\n",
        "from sklearn.impute import SimpleImputer\n",
        "from sklearn.experimental import enable_iterative_imputer\n",
        "from sklearn.impute import IterativeImputer\n",
        "from sklearn.impute import KNNImputer\n",
        "from sklearn.pipeline import make_pipeline\n",
        "scaler = MinMaxScaler()\n",
        "model = RandomForestRegressor(n_estimators=40)\n",
        "imputer = KNNImputer()\n",
        "pipe = make_pipeline(imputer,scaler, model)\n",
        "pipe.fit(X_train, y_train)\n",
        "pred = pipe.predict(X_test)\n",
        "print(\"VAL SCORE:\",pipe.score(X_test, y_test))\n",
        "print(\"Training SCORE:\",pipe.score(X_train, y_train))\n",
        "print(\"MSE : % f\" %mean_squared_error(y_test, pred))\n",
        "rmse = np.sqrt(mean_squared_error(y_test, pred))\n",
        "print(\"RMSE : % f\" %(rmse))\n",
        "print('R_Squared Score of logistic regression:', r2_score(y_test, pred))"
      ],
      "metadata": {
        "colab": {
          "base_uri": "https://localhost:8080/"
        },
        "id": "Ri4wWRWrgWa3",
        "outputId": "6456461c-2c2f-4db5-efb5-0e263af39a8b"
      },
      "execution_count": 66,
      "outputs": [
        {
          "output_type": "stream",
          "name": "stdout",
          "text": [
            "VAL SCORE: 0.9997414823943342\n",
            "Training SCORE: 0.9999624185851664\n",
            "MSE :  0.340603\n",
            "RMSE :  0.583612\n",
            "R_Squared Score of logistic regression: 0.9997414823943342\n"
          ]
        }
      ]
    }
  ]
}